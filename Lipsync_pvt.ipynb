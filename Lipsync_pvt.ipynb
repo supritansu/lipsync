{
  "nbformat": 4,
  "nbformat_minor": 0,
  "metadata": {
    "colab": {
      "provenance": [],
      "gpuType": "T4"
    },
    "kernelspec": {
      "name": "python3",
      "display_name": "Python 3"
    },
    "language_info": {
      "name": "python"
    },
    "accelerator": "GPU"
  },
  "cells": [
    {
      "cell_type": "code",
      "execution_count": null,
      "metadata": {
        "id": "9rOk2d7ZLCrN"
      },
      "outputs": [],
      "source": [
        "!nvcc --version"
      ]
    },
    {
      "cell_type": "code",
      "source": [
        "from google.colab import drive\n",
        "drive.mount('/content/gdrive')"
      ],
      "metadata": {
        "id": "D3tAphHrMkCX"
      },
      "execution_count": null,
      "outputs": []
    },
    {
      "cell_type": "code",
      "source": [
        "!pip install pytube"
      ],
      "metadata": {
        "id": "7J0dy-QhOfyH"
      },
      "execution_count": null,
      "outputs": []
    },
    {
      "cell_type": "code",
      "source": [
        "import os\n",
        "from pytube import YouTube\n",
        "\n",
        "# Function to download a video from a URL with the highest resolution\n",
        "def download_highest_resolution_video(url, output_path):\n",
        "    try:\n",
        "        yt = YouTube(url)\n",
        "        stream = yt.streams.filter(progressive=True, file_extension='mp4').order_by('resolution').desc().first()\n",
        "        if stream:\n",
        "            stream.download(output_path=output_path)\n",
        "            print(f\"Downloaded: {yt.title} (Resolution: {stream.resolution})\")\n",
        "        else:\n",
        "            print(f\"No MP4 video available for {yt.title}\")\n",
        "\n",
        "    except Exception as e:\n",
        "        print(f\"Error downloading {url}: {str(e)}\")\n",
        "\n",
        "# Function to read video URLs from a file and download them with the highest resolution\n",
        "def download_videos_from_file(file_path, output_directory):\n",
        "    if not os.path.exists(output_directory):\n",
        "        os.makedirs(output_directory)\n",
        "\n",
        "    with open(file_path, 'r') as file:\n",
        "        video_urls = file.read().splitlines()\n",
        "        for url in video_urls:\n",
        "            download_highest_resolution_video(url, output_directory)\n",
        "\n",
        "input_file = \"/content/gdrive/MyDrive/YT_LINKS.txt\"  # Change this to your file containing video URLs\n",
        "output_directory = \"/content/gdrive/MyDrive/Wav2Lip\"  # Change this to your desired output directory\n",
        "download_videos_from_file(input_file, output_directory)\n"
      ],
      "metadata": {
        "id": "CIjmJ2m1pPTb"
      },
      "execution_count": null,
      "outputs": []
    },
    {
      "cell_type": "code",
      "source": [
        "!git clone https://github.com/Rudrabha/Wav2Lip.git"
      ],
      "metadata": {
        "id": "CB_IoUyY5zRb"
      },
      "execution_count": null,
      "outputs": []
    },
    {
      "cell_type": "code",
      "source": [
        "#Replace the function below with _build_mel_basis() in /content/Wav2Lip/audio.py\n",
        "\n",
        "\n",
        "def _build_mel_basis():\n",
        "    assert hp.fmax <= hp.sample_rate // 2\n",
        "    return librosa.filters.mel(\n",
        "        sr=hp.sample_rate,\n",
        "        n_fft=hp.n_fft,\n",
        "        n_mels=hp.num_mels,\n",
        "        fmin=hp.fmin,\n",
        "        fmax=hp.fmax,\n",
        "    )\n"
      ],
      "metadata": {
        "id": "TKLmbZ58ySQW"
      },
      "execution_count": null,
      "outputs": []
    },
    {
      "cell_type": "code",
      "source": [
        "# !git clone https://github.com/Rudrabha/Wav2Lip.git\n",
        "\n",
        "!ls /content/gdrive/MyDrive/Wav2Lip\n",
        "\n",
        "!cp -ri \"/content/gdrive/MyDrive/Wav2lip/wav2lip_gan.pth\" /content/Wav2Lip/checkpoints/\n",
        "\n",
        "!pip uninstall tensorflow tensorflow-gpu\n",
        "\n",
        "!cd Wav2Lip && pip install -r requirements.txt\n",
        "\n",
        "!wget \"https://www.adrianbulat.com/downloads/python-fan/s3fd-619a316812.pth\" -O \"Wav2Lip/face_detection/detection/sfd/s3fd.pth\"\n",
        "\n",
        "!cp \"/content/gdrive/My Drive/Wav2Lip/TechNews_Edit_2.mp4\" \"/content/gdrive/My Drive/Wav2Lip/output10.wav\" sample_data/\n",
        "\n",
        "!ls sample_data/\n",
        "\n",
        "!cd Wav2Lip && python inference.py --checkpoint_path checkpoints/wav2lip_gan.pth --face \"../sample_data/TechNews_Edit_2.mp4\" --audio \"../sample_data/output10.wav\" --pads 0 20 0 0 --resize_factor 2 --nosmooth\n",
        "\n",
        "\n",
        "# !cd Wav2Lip && python inference.py --checkpoint_path checkpoints/wav2lip_gan.pth --face \"../sample_data/TechNews_1080.mp4\" --audio \"../sample_data/output10.wav\"\n",
        "\n"
      ],
      "metadata": {
        "id": "BiCaIatQMl1Y"
      },
      "execution_count": null,
      "outputs": []
    },
    {
      "cell_type": "code",
      "source": [
        "!ls /content/gdrive/MyDrive/Wav2Lip/"
      ],
      "metadata": {
        "id": "q5asr8Df63qq"
      },
      "execution_count": null,
      "outputs": []
    },
    {
      "cell_type": "code",
      "source": [
        "\n",
        "# !cd Wav2Lip && python inference.py --checkpoint_path checkpoints/wav2lip_gan.pth --face \"../sample_data/TechNews_Edit_2.mp4\" --audio \"../sample_data/output10.wav\" --pads 0 20 0 0 --resize_factor 2 --nosmooth\n",
        "\n",
        "# !cd Wav2Lip && python inference.py --checkpoint_path checkpoints/wav2lip_gan.pth --face \"../sample_data/input_vid.mp4\" --audio \"../sample_data/input_audio.wav\" --resize_factor 2\n",
        "\n"
      ],
      "metadata": {
        "id": "27Lm6BcGONwH"
      },
      "execution_count": null,
      "outputs": []
    },
    {
      "cell_type": "code",
      "source": [],
      "metadata": {
        "id": "4caod15NtnHW"
      },
      "execution_count": null,
      "outputs": []
    },
    {
      "cell_type": "code",
      "source": [
        "# !cd Wav2Lip && python inference.py --checkpoint_path checkpoints/wav2lip_gan.pth --face \"../sample_data/TechNews_Edit_2.mp4\" --audio \"../sample_data/output10.wav\" --nosmooth"
      ],
      "metadata": {
        "id": "JMWyVRkYK0JJ"
      },
      "execution_count": null,
      "outputs": []
    },
    {
      "cell_type": "code",
      "source": [],
      "metadata": {
        "id": "-UCpMsTkN1ws"
      },
      "execution_count": null,
      "outputs": []
    }
  ]
}